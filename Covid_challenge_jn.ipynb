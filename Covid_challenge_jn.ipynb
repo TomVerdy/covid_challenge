{
 "cells": [
  {
   "cell_type": "markdown",
   "id": "d4da0543",
   "metadata": {},
   "source": [
    "# Setup"
   ]
  },
  {
   "cell_type": "code",
   "execution_count": 1,
   "id": "544d3249",
   "metadata": {
    "ExecuteTime": {
     "end_time": "2023-01-17T15:46:23.136833Z",
     "start_time": "2023-01-17T15:46:17.602160Z"
    }
   },
   "outputs": [],
   "source": [
    "import pandas as pd\n",
    "import numpy as np\n",
    "import seaborn as sns\n",
    "import matplotlib.pyplot as plt"
   ]
  },
  {
   "cell_type": "code",
   "execution_count": 83,
   "id": "eab51a63",
   "metadata": {
    "ExecuteTime": {
     "end_time": "2023-01-17T16:19:11.252222Z",
     "start_time": "2023-01-17T16:19:11.241480Z"
    }
   },
   "outputs": [],
   "source": [
    "from sklearn import set_config; set_config(display='diagram')\n",
    "from sklearn.pipeline import Pipeline\n",
    "from sklearn.preprocessing import OneHotEncoder\n",
    "from sklearn.compose import ColumnTransformer\n",
    "from sklearn.pipeline import make_pipeline\n",
    "from sklearn.pipeline import make_union\n",
    "from sklearn.compose import make_column_transformer\n",
    "from sklearn.preprocessing import StandardScaler\n",
    "\n",
    "\n",
    "from sklearn.model_selection import cross_val_score"
   ]
  },
  {
   "cell_type": "markdown",
   "id": "26753ca9",
   "metadata": {},
   "source": [
    "# Raw data "
   ]
  },
  {
   "cell_type": "code",
   "execution_count": 2,
   "id": "29555403",
   "metadata": {
    "ExecuteTime": {
     "end_time": "2023-01-17T15:46:59.264543Z",
     "start_time": "2023-01-17T15:46:59.125096Z"
    }
   },
   "outputs": [],
   "source": [
    "data = pd.read_csv(\"data/train.csv\")"
   ]
  },
  {
   "cell_type": "markdown",
   "id": "68d39908",
   "metadata": {},
   "source": [
    "**Nous avons 30 051 patients avec 16 features et une target**"
   ]
  },
  {
   "cell_type": "code",
   "execution_count": 5,
   "id": "a954754e",
   "metadata": {
    "ExecuteTime": {
     "end_time": "2023-01-17T15:47:23.099814Z",
     "start_time": "2023-01-17T15:47:23.060804Z"
    }
   },
   "outputs": [
    {
     "data": {
      "text/html": [
       "<div>\n",
       "<style scoped>\n",
       "    .dataframe tbody tr th:only-of-type {\n",
       "        vertical-align: middle;\n",
       "    }\n",
       "\n",
       "    .dataframe tbody tr th {\n",
       "        vertical-align: top;\n",
       "    }\n",
       "\n",
       "    .dataframe thead th {\n",
       "        text-align: right;\n",
       "    }\n",
       "</style>\n",
       "<table border=\"1\" class=\"dataframe\">\n",
       "  <thead>\n",
       "    <tr style=\"text-align: right;\">\n",
       "      <th></th>\n",
       "      <th>USMER</th>\n",
       "      <th>MEDICAL_UNIT</th>\n",
       "      <th>SEX</th>\n",
       "      <th>PNEUMONIA</th>\n",
       "      <th>AGE</th>\n",
       "      <th>PREGNANT</th>\n",
       "      <th>DIABETES</th>\n",
       "      <th>COPD</th>\n",
       "      <th>ASTHMA</th>\n",
       "      <th>INMSUPR</th>\n",
       "      <th>HIPERTENSION</th>\n",
       "      <th>OTHER_DISEASE</th>\n",
       "      <th>CARDIOVASCULAR</th>\n",
       "      <th>OBESITY</th>\n",
       "      <th>RENAL_CHRONIC</th>\n",
       "      <th>TOBACCO</th>\n",
       "      <th>LABEL</th>\n",
       "    </tr>\n",
       "  </thead>\n",
       "  <tbody>\n",
       "    <tr>\n",
       "      <th>0</th>\n",
       "      <td>2</td>\n",
       "      <td>12</td>\n",
       "      <td>1</td>\n",
       "      <td>2</td>\n",
       "      <td>21</td>\n",
       "      <td>2</td>\n",
       "      <td>2</td>\n",
       "      <td>2</td>\n",
       "      <td>2</td>\n",
       "      <td>2</td>\n",
       "      <td>2</td>\n",
       "      <td>2</td>\n",
       "      <td>2</td>\n",
       "      <td>2</td>\n",
       "      <td>2</td>\n",
       "      <td>2</td>\n",
       "      <td>SOFT_COVID</td>\n",
       "    </tr>\n",
       "    <tr>\n",
       "      <th>1</th>\n",
       "      <td>2</td>\n",
       "      <td>4</td>\n",
       "      <td>1</td>\n",
       "      <td>2</td>\n",
       "      <td>49</td>\n",
       "      <td>2</td>\n",
       "      <td>2</td>\n",
       "      <td>2</td>\n",
       "      <td>2</td>\n",
       "      <td>2</td>\n",
       "      <td>2</td>\n",
       "      <td>2</td>\n",
       "      <td>2</td>\n",
       "      <td>2</td>\n",
       "      <td>2</td>\n",
       "      <td>2</td>\n",
       "      <td>SOFT_COVID</td>\n",
       "    </tr>\n",
       "    <tr>\n",
       "      <th>2</th>\n",
       "      <td>2</td>\n",
       "      <td>9</td>\n",
       "      <td>2</td>\n",
       "      <td>1</td>\n",
       "      <td>60</td>\n",
       "      <td>2</td>\n",
       "      <td>2</td>\n",
       "      <td>2</td>\n",
       "      <td>2</td>\n",
       "      <td>2</td>\n",
       "      <td>2</td>\n",
       "      <td>2</td>\n",
       "      <td>2</td>\n",
       "      <td>2</td>\n",
       "      <td>1</td>\n",
       "      <td>2</td>\n",
       "      <td>DEAD</td>\n",
       "    </tr>\n",
       "    <tr>\n",
       "      <th>3</th>\n",
       "      <td>2</td>\n",
       "      <td>12</td>\n",
       "      <td>1</td>\n",
       "      <td>1</td>\n",
       "      <td>55</td>\n",
       "      <td>2</td>\n",
       "      <td>2</td>\n",
       "      <td>2</td>\n",
       "      <td>2</td>\n",
       "      <td>2</td>\n",
       "      <td>2</td>\n",
       "      <td>2</td>\n",
       "      <td>2</td>\n",
       "      <td>1</td>\n",
       "      <td>2</td>\n",
       "      <td>2</td>\n",
       "      <td>DEAD</td>\n",
       "    </tr>\n",
       "    <tr>\n",
       "      <th>4</th>\n",
       "      <td>2</td>\n",
       "      <td>12</td>\n",
       "      <td>1</td>\n",
       "      <td>2</td>\n",
       "      <td>47</td>\n",
       "      <td>2</td>\n",
       "      <td>2</td>\n",
       "      <td>2</td>\n",
       "      <td>2</td>\n",
       "      <td>2</td>\n",
       "      <td>2</td>\n",
       "      <td>2</td>\n",
       "      <td>2</td>\n",
       "      <td>2</td>\n",
       "      <td>2</td>\n",
       "      <td>2</td>\n",
       "      <td>SOFT_COVID</td>\n",
       "    </tr>\n",
       "    <tr>\n",
       "      <th>...</th>\n",
       "      <td>...</td>\n",
       "      <td>...</td>\n",
       "      <td>...</td>\n",
       "      <td>...</td>\n",
       "      <td>...</td>\n",
       "      <td>...</td>\n",
       "      <td>...</td>\n",
       "      <td>...</td>\n",
       "      <td>...</td>\n",
       "      <td>...</td>\n",
       "      <td>...</td>\n",
       "      <td>...</td>\n",
       "      <td>...</td>\n",
       "      <td>...</td>\n",
       "      <td>...</td>\n",
       "      <td>...</td>\n",
       "      <td>...</td>\n",
       "    </tr>\n",
       "    <tr>\n",
       "      <th>30046</th>\n",
       "      <td>2</td>\n",
       "      <td>12</td>\n",
       "      <td>1</td>\n",
       "      <td>2</td>\n",
       "      <td>40</td>\n",
       "      <td>2</td>\n",
       "      <td>2</td>\n",
       "      <td>2</td>\n",
       "      <td>2</td>\n",
       "      <td>2</td>\n",
       "      <td>2</td>\n",
       "      <td>2</td>\n",
       "      <td>2</td>\n",
       "      <td>1</td>\n",
       "      <td>2</td>\n",
       "      <td>2</td>\n",
       "      <td>SOFT_COVID</td>\n",
       "    </tr>\n",
       "    <tr>\n",
       "      <th>30047</th>\n",
       "      <td>1</td>\n",
       "      <td>4</td>\n",
       "      <td>2</td>\n",
       "      <td>2</td>\n",
       "      <td>76</td>\n",
       "      <td>2</td>\n",
       "      <td>1</td>\n",
       "      <td>2</td>\n",
       "      <td>2</td>\n",
       "      <td>2</td>\n",
       "      <td>1</td>\n",
       "      <td>2</td>\n",
       "      <td>1</td>\n",
       "      <td>2</td>\n",
       "      <td>1</td>\n",
       "      <td>2</td>\n",
       "      <td>DEAD</td>\n",
       "    </tr>\n",
       "    <tr>\n",
       "      <th>30048</th>\n",
       "      <td>2</td>\n",
       "      <td>9</td>\n",
       "      <td>1</td>\n",
       "      <td>2</td>\n",
       "      <td>34</td>\n",
       "      <td>2</td>\n",
       "      <td>2</td>\n",
       "      <td>2</td>\n",
       "      <td>1</td>\n",
       "      <td>2</td>\n",
       "      <td>2</td>\n",
       "      <td>2</td>\n",
       "      <td>2</td>\n",
       "      <td>2</td>\n",
       "      <td>2</td>\n",
       "      <td>2</td>\n",
       "      <td>SOFT_COVID</td>\n",
       "    </tr>\n",
       "    <tr>\n",
       "      <th>30049</th>\n",
       "      <td>1</td>\n",
       "      <td>4</td>\n",
       "      <td>1</td>\n",
       "      <td>2</td>\n",
       "      <td>60</td>\n",
       "      <td>2</td>\n",
       "      <td>1</td>\n",
       "      <td>2</td>\n",
       "      <td>1</td>\n",
       "      <td>2</td>\n",
       "      <td>1</td>\n",
       "      <td>2</td>\n",
       "      <td>2</td>\n",
       "      <td>2</td>\n",
       "      <td>2</td>\n",
       "      <td>2</td>\n",
       "      <td>DEAD</td>\n",
       "    </tr>\n",
       "    <tr>\n",
       "      <th>30050</th>\n",
       "      <td>1</td>\n",
       "      <td>12</td>\n",
       "      <td>1</td>\n",
       "      <td>2</td>\n",
       "      <td>0</td>\n",
       "      <td>2</td>\n",
       "      <td>2</td>\n",
       "      <td>2</td>\n",
       "      <td>2</td>\n",
       "      <td>2</td>\n",
       "      <td>2</td>\n",
       "      <td>2</td>\n",
       "      <td>2</td>\n",
       "      <td>2</td>\n",
       "      <td>2</td>\n",
       "      <td>2</td>\n",
       "      <td>STRONG_COVID</td>\n",
       "    </tr>\n",
       "  </tbody>\n",
       "</table>\n",
       "<p>30051 rows × 17 columns</p>\n",
       "</div>"
      ],
      "text/plain": [
       "       USMER  MEDICAL_UNIT  SEX  PNEUMONIA  AGE  PREGNANT  DIABETES  COPD  \\\n",
       "0          2            12    1          2   21         2         2     2   \n",
       "1          2             4    1          2   49         2         2     2   \n",
       "2          2             9    2          1   60         2         2     2   \n",
       "3          2            12    1          1   55         2         2     2   \n",
       "4          2            12    1          2   47         2         2     2   \n",
       "...      ...           ...  ...        ...  ...       ...       ...   ...   \n",
       "30046      2            12    1          2   40         2         2     2   \n",
       "30047      1             4    2          2   76         2         1     2   \n",
       "30048      2             9    1          2   34         2         2     2   \n",
       "30049      1             4    1          2   60         2         1     2   \n",
       "30050      1            12    1          2    0         2         2     2   \n",
       "\n",
       "       ASTHMA  INMSUPR  HIPERTENSION  OTHER_DISEASE  CARDIOVASCULAR  OBESITY  \\\n",
       "0           2        2             2              2               2        2   \n",
       "1           2        2             2              2               2        2   \n",
       "2           2        2             2              2               2        2   \n",
       "3           2        2             2              2               2        1   \n",
       "4           2        2             2              2               2        2   \n",
       "...       ...      ...           ...            ...             ...      ...   \n",
       "30046       2        2             2              2               2        1   \n",
       "30047       2        2             1              2               1        2   \n",
       "30048       1        2             2              2               2        2   \n",
       "30049       1        2             1              2               2        2   \n",
       "30050       2        2             2              2               2        2   \n",
       "\n",
       "       RENAL_CHRONIC  TOBACCO         LABEL  \n",
       "0                  2        2    SOFT_COVID  \n",
       "1                  2        2    SOFT_COVID  \n",
       "2                  1        2          DEAD  \n",
       "3                  2        2          DEAD  \n",
       "4                  2        2    SOFT_COVID  \n",
       "...              ...      ...           ...  \n",
       "30046              2        2    SOFT_COVID  \n",
       "30047              1        2          DEAD  \n",
       "30048              2        2    SOFT_COVID  \n",
       "30049              2        2          DEAD  \n",
       "30050              2        2  STRONG_COVID  \n",
       "\n",
       "[30051 rows x 17 columns]"
      ]
     },
     "execution_count": 5,
     "metadata": {},
     "output_type": "execute_result"
    }
   ],
   "source": [
    "data"
   ]
  },
  {
   "cell_type": "code",
   "execution_count": 4,
   "id": "49e83641",
   "metadata": {
    "ExecuteTime": {
     "end_time": "2023-01-17T15:47:09.877942Z",
     "start_time": "2023-01-17T15:47:09.626891Z"
    }
   },
   "outputs": [
    {
     "data": {
      "text/html": [
       "<div>\n",
       "<style scoped>\n",
       "    .dataframe tbody tr th:only-of-type {\n",
       "        vertical-align: middle;\n",
       "    }\n",
       "\n",
       "    .dataframe tbody tr th {\n",
       "        vertical-align: top;\n",
       "    }\n",
       "\n",
       "    .dataframe thead th {\n",
       "        text-align: right;\n",
       "    }\n",
       "</style>\n",
       "<table border=\"1\" class=\"dataframe\">\n",
       "  <thead>\n",
       "    <tr style=\"text-align: right;\">\n",
       "      <th></th>\n",
       "      <th>USMER</th>\n",
       "      <th>MEDICAL_UNIT</th>\n",
       "      <th>SEX</th>\n",
       "      <th>PNEUMONIA</th>\n",
       "      <th>AGE</th>\n",
       "      <th>PREGNANT</th>\n",
       "      <th>DIABETES</th>\n",
       "      <th>COPD</th>\n",
       "      <th>ASTHMA</th>\n",
       "      <th>INMSUPR</th>\n",
       "      <th>HIPERTENSION</th>\n",
       "      <th>OTHER_DISEASE</th>\n",
       "      <th>CARDIOVASCULAR</th>\n",
       "      <th>OBESITY</th>\n",
       "      <th>RENAL_CHRONIC</th>\n",
       "      <th>TOBACCO</th>\n",
       "    </tr>\n",
       "  </thead>\n",
       "  <tbody>\n",
       "    <tr>\n",
       "      <th>count</th>\n",
       "      <td>30051.000000</td>\n",
       "      <td>30051.000000</td>\n",
       "      <td>30051.000000</td>\n",
       "      <td>30051.000000</td>\n",
       "      <td>30051.000000</td>\n",
       "      <td>30051.000000</td>\n",
       "      <td>30051.000000</td>\n",
       "      <td>30051.000000</td>\n",
       "      <td>30051.000000</td>\n",
       "      <td>30051.000000</td>\n",
       "      <td>30051.000000</td>\n",
       "      <td>30051.000000</td>\n",
       "      <td>30051.000000</td>\n",
       "      <td>30051.000000</td>\n",
       "      <td>30051.000000</td>\n",
       "      <td>30051.00000</td>\n",
       "    </tr>\n",
       "    <tr>\n",
       "      <th>mean</th>\n",
       "      <td>1.536787</td>\n",
       "      <td>8.145619</td>\n",
       "      <td>1.589664</td>\n",
       "      <td>1.485441</td>\n",
       "      <td>50.205417</td>\n",
       "      <td>1.992679</td>\n",
       "      <td>1.748128</td>\n",
       "      <td>1.968254</td>\n",
       "      <td>1.976074</td>\n",
       "      <td>1.971914</td>\n",
       "      <td>1.713321</td>\n",
       "      <td>1.950950</td>\n",
       "      <td>1.956940</td>\n",
       "      <td>1.792819</td>\n",
       "      <td>1.956041</td>\n",
       "      <td>1.91937</td>\n",
       "    </tr>\n",
       "    <tr>\n",
       "      <th>std</th>\n",
       "      <td>0.498653</td>\n",
       "      <td>3.739668</td>\n",
       "      <td>0.491903</td>\n",
       "      <td>0.499796</td>\n",
       "      <td>19.519962</td>\n",
       "      <td>0.085250</td>\n",
       "      <td>0.434095</td>\n",
       "      <td>0.175326</td>\n",
       "      <td>0.152821</td>\n",
       "      <td>0.165220</td>\n",
       "      <td>0.452218</td>\n",
       "      <td>0.215976</td>\n",
       "      <td>0.202996</td>\n",
       "      <td>0.405293</td>\n",
       "      <td>0.205006</td>\n",
       "      <td>0.27227</td>\n",
       "    </tr>\n",
       "    <tr>\n",
       "      <th>min</th>\n",
       "      <td>1.000000</td>\n",
       "      <td>1.000000</td>\n",
       "      <td>1.000000</td>\n",
       "      <td>1.000000</td>\n",
       "      <td>0.000000</td>\n",
       "      <td>1.000000</td>\n",
       "      <td>1.000000</td>\n",
       "      <td>1.000000</td>\n",
       "      <td>1.000000</td>\n",
       "      <td>1.000000</td>\n",
       "      <td>1.000000</td>\n",
       "      <td>1.000000</td>\n",
       "      <td>1.000000</td>\n",
       "      <td>1.000000</td>\n",
       "      <td>1.000000</td>\n",
       "      <td>1.00000</td>\n",
       "    </tr>\n",
       "    <tr>\n",
       "      <th>25%</th>\n",
       "      <td>1.000000</td>\n",
       "      <td>4.000000</td>\n",
       "      <td>1.000000</td>\n",
       "      <td>1.000000</td>\n",
       "      <td>38.000000</td>\n",
       "      <td>2.000000</td>\n",
       "      <td>1.000000</td>\n",
       "      <td>2.000000</td>\n",
       "      <td>2.000000</td>\n",
       "      <td>2.000000</td>\n",
       "      <td>1.000000</td>\n",
       "      <td>2.000000</td>\n",
       "      <td>2.000000</td>\n",
       "      <td>2.000000</td>\n",
       "      <td>2.000000</td>\n",
       "      <td>2.00000</td>\n",
       "    </tr>\n",
       "    <tr>\n",
       "      <th>50%</th>\n",
       "      <td>2.000000</td>\n",
       "      <td>9.000000</td>\n",
       "      <td>2.000000</td>\n",
       "      <td>1.000000</td>\n",
       "      <td>52.000000</td>\n",
       "      <td>2.000000</td>\n",
       "      <td>2.000000</td>\n",
       "      <td>2.000000</td>\n",
       "      <td>2.000000</td>\n",
       "      <td>2.000000</td>\n",
       "      <td>2.000000</td>\n",
       "      <td>2.000000</td>\n",
       "      <td>2.000000</td>\n",
       "      <td>2.000000</td>\n",
       "      <td>2.000000</td>\n",
       "      <td>2.00000</td>\n",
       "    </tr>\n",
       "    <tr>\n",
       "      <th>75%</th>\n",
       "      <td>2.000000</td>\n",
       "      <td>12.000000</td>\n",
       "      <td>2.000000</td>\n",
       "      <td>2.000000</td>\n",
       "      <td>64.000000</td>\n",
       "      <td>2.000000</td>\n",
       "      <td>2.000000</td>\n",
       "      <td>2.000000</td>\n",
       "      <td>2.000000</td>\n",
       "      <td>2.000000</td>\n",
       "      <td>2.000000</td>\n",
       "      <td>2.000000</td>\n",
       "      <td>2.000000</td>\n",
       "      <td>2.000000</td>\n",
       "      <td>2.000000</td>\n",
       "      <td>2.00000</td>\n",
       "    </tr>\n",
       "    <tr>\n",
       "      <th>max</th>\n",
       "      <td>2.000000</td>\n",
       "      <td>13.000000</td>\n",
       "      <td>2.000000</td>\n",
       "      <td>2.000000</td>\n",
       "      <td>104.000000</td>\n",
       "      <td>2.000000</td>\n",
       "      <td>2.000000</td>\n",
       "      <td>2.000000</td>\n",
       "      <td>2.000000</td>\n",
       "      <td>2.000000</td>\n",
       "      <td>2.000000</td>\n",
       "      <td>2.000000</td>\n",
       "      <td>2.000000</td>\n",
       "      <td>2.000000</td>\n",
       "      <td>2.000000</td>\n",
       "      <td>2.00000</td>\n",
       "    </tr>\n",
       "  </tbody>\n",
       "</table>\n",
       "</div>"
      ],
      "text/plain": [
       "              USMER  MEDICAL_UNIT           SEX     PNEUMONIA           AGE  \\\n",
       "count  30051.000000  30051.000000  30051.000000  30051.000000  30051.000000   \n",
       "mean       1.536787      8.145619      1.589664      1.485441     50.205417   \n",
       "std        0.498653      3.739668      0.491903      0.499796     19.519962   \n",
       "min        1.000000      1.000000      1.000000      1.000000      0.000000   \n",
       "25%        1.000000      4.000000      1.000000      1.000000     38.000000   \n",
       "50%        2.000000      9.000000      2.000000      1.000000     52.000000   \n",
       "75%        2.000000     12.000000      2.000000      2.000000     64.000000   \n",
       "max        2.000000     13.000000      2.000000      2.000000    104.000000   \n",
       "\n",
       "           PREGNANT      DIABETES          COPD        ASTHMA       INMSUPR  \\\n",
       "count  30051.000000  30051.000000  30051.000000  30051.000000  30051.000000   \n",
       "mean       1.992679      1.748128      1.968254      1.976074      1.971914   \n",
       "std        0.085250      0.434095      0.175326      0.152821      0.165220   \n",
       "min        1.000000      1.000000      1.000000      1.000000      1.000000   \n",
       "25%        2.000000      1.000000      2.000000      2.000000      2.000000   \n",
       "50%        2.000000      2.000000      2.000000      2.000000      2.000000   \n",
       "75%        2.000000      2.000000      2.000000      2.000000      2.000000   \n",
       "max        2.000000      2.000000      2.000000      2.000000      2.000000   \n",
       "\n",
       "       HIPERTENSION  OTHER_DISEASE  CARDIOVASCULAR       OBESITY  \\\n",
       "count  30051.000000   30051.000000    30051.000000  30051.000000   \n",
       "mean       1.713321       1.950950        1.956940      1.792819   \n",
       "std        0.452218       0.215976        0.202996      0.405293   \n",
       "min        1.000000       1.000000        1.000000      1.000000   \n",
       "25%        1.000000       2.000000        2.000000      2.000000   \n",
       "50%        2.000000       2.000000        2.000000      2.000000   \n",
       "75%        2.000000       2.000000        2.000000      2.000000   \n",
       "max        2.000000       2.000000        2.000000      2.000000   \n",
       "\n",
       "       RENAL_CHRONIC      TOBACCO  \n",
       "count   30051.000000  30051.00000  \n",
       "mean        1.956041      1.91937  \n",
       "std         0.205006      0.27227  \n",
       "min         1.000000      1.00000  \n",
       "25%         2.000000      2.00000  \n",
       "50%         2.000000      2.00000  \n",
       "75%         2.000000      2.00000  \n",
       "max         2.000000      2.00000  "
      ]
     },
     "execution_count": 4,
     "metadata": {},
     "output_type": "execute_result"
    }
   ],
   "source": [
    "data.describe()"
   ]
  },
  {
   "cell_type": "markdown",
   "id": "f7391ae2",
   "metadata": {},
   "source": [
    "## Data analysis"
   ]
  },
  {
   "cell_type": "markdown",
   "id": "d16bf8d4",
   "metadata": {},
   "source": [
    "## Features analysis"
   ]
  },
  {
   "cell_type": "markdown",
   "id": "0d812c03",
   "metadata": {},
   "source": [
    "USMER : indique si le patient a traité des unités médicales de premier ou de deuxième niveau"
   ]
  },
  {
   "cell_type": "code",
   "execution_count": 7,
   "id": "51acc39d",
   "metadata": {
    "ExecuteTime": {
     "end_time": "2023-01-17T15:49:20.440984Z",
     "start_time": "2023-01-17T15:49:20.430734Z"
    }
   },
   "outputs": [
    {
     "data": {
      "text/plain": [
       "2    16131\n",
       "1    13920\n",
       "Name: USMER, dtype: int64"
      ]
     },
     "execution_count": 7,
     "metadata": {},
     "output_type": "execute_result"
    }
   ],
   "source": [
    "data[\"USMER\"].value_counts()"
   ]
  },
  {
   "cell_type": "markdown",
   "id": "44a1a573",
   "metadata": {},
   "source": [
    "MEDICAL_UNIT : type d'institution du système national de santé qui a dispensé les soins (de 1 à 13)"
   ]
  },
  {
   "cell_type": "markdown",
   "id": "b1179acf",
   "metadata": {
    "ExecuteTime": {
     "end_time": "2023-01-17T15:49:44.963682Z",
     "start_time": "2023-01-17T15:49:44.955904Z"
    }
   },
   "source": [
    "SEX : sexe du patient (1 pour les femmes et 2 pour les hommes)"
   ]
  },
  {
   "cell_type": "markdown",
   "id": "73b2e7d1",
   "metadata": {},
   "source": [
    "PNEUMONIA : si le patient a déjà une inflammation des sacs alvéolaires des poumons (1) ou non (2)"
   ]
  },
  {
   "cell_type": "markdown",
   "id": "d5db8ef2",
   "metadata": {},
   "source": [
    "AGE : âge du patient"
   ]
  },
  {
   "cell_type": "markdown",
   "id": "84ab2be1",
   "metadata": {},
   "source": [
    "PREGNANT : si la patiente est enceinte (1) ou non (2)"
   ]
  },
  {
   "cell_type": "markdown",
   "id": "257eb32e",
   "metadata": {},
   "source": [
    "DIABETES : si le patient est diabétique (1) ou non (2)"
   ]
  },
  {
   "cell_type": "markdown",
   "id": "3be5c832",
   "metadata": {},
   "source": [
    "COPD : si le patient est atteint de bronchopneumopathie chronique obstructive(1) ou non (2)"
   ]
  },
  {
   "cell_type": "markdown",
   "id": "4f203546",
   "metadata": {},
   "source": [
    "ASTHMA : si le patient est asthmatique (1) ou non (2)"
   ]
  },
  {
   "cell_type": "markdown",
   "id": "47e0fb3b",
   "metadata": {},
   "source": [
    "INMSUPR : si le patient est immunodéprimé (1) ou non (2)"
   ]
  },
  {
   "cell_type": "markdown",
   "id": "bb38799c",
   "metadata": {},
   "source": [
    "HIPERTENSION : si le patient est hypertendu (1) ou non (2)"
   ]
  },
  {
   "cell_type": "markdown",
   "id": "78a041d3",
   "metadata": {},
   "source": [
    "OTHER_DISEASE : si le patient est atteint d'une autre maladie (1) ou non (2)"
   ]
  },
  {
   "cell_type": "markdown",
   "id": "169a3d18",
   "metadata": {},
   "source": [
    "CARDIOVASCULAR : si le patient est atteint d'une maladie du cœur ou des vaisseaux sanguins (1) ou non (2)"
   ]
  },
  {
   "cell_type": "markdown",
   "id": "87304e0b",
   "metadata": {},
   "source": [
    "OBESITY : si le patient est obèse (1) ou non (2)"
   ]
  },
  {
   "cell_type": "markdown",
   "id": "6fa3696f",
   "metadata": {},
   "source": [
    "RENAL_CHRONIC : si le patient est atteint d'une maladie rénale chronique (1) ou non (2)"
   ]
  },
  {
   "cell_type": "markdown",
   "id": "63246eda",
   "metadata": {},
   "source": [
    "TOBACCO : si le patient fume (1) ou non (2)"
   ]
  },
  {
   "cell_type": "markdown",
   "id": "7effa614",
   "metadata": {},
   "source": [
    "**Except for age, all other features are categorical** "
   ]
  },
  {
   "cell_type": "markdown",
   "id": "0e7c3798",
   "metadata": {},
   "source": [
    "## Target analysis"
   ]
  },
  {
   "cell_type": "code",
   "execution_count": 18,
   "id": "f5816bca",
   "metadata": {
    "ExecuteTime": {
     "end_time": "2023-01-17T15:59:52.692497Z",
     "start_time": "2023-01-17T15:59:52.677391Z"
    },
    "scrolled": true
   },
   "outputs": [
    {
     "data": {
      "text/plain": [
       "SOFT_COVID      10017\n",
       "DEAD            10017\n",
       "STRONG_COVID    10017\n",
       "Name: LABEL, dtype: int64"
      ]
     },
     "execution_count": 18,
     "metadata": {},
     "output_type": "execute_result"
    }
   ],
   "source": [
    "data[\"LABEL\"].value_counts()"
   ]
  },
  {
   "cell_type": "markdown",
   "id": "49f3aa84",
   "metadata": {},
   "source": [
    "**The dataset is balanced**"
   ]
  },
  {
   "cell_type": "markdown",
   "id": "1c01f958",
   "metadata": {},
   "source": [
    "## Missing data"
   ]
  },
  {
   "cell_type": "code",
   "execution_count": 17,
   "id": "4b27ef30",
   "metadata": {
    "ExecuteTime": {
     "end_time": "2023-01-17T15:57:36.317570Z",
     "start_time": "2023-01-17T15:57:36.294517Z"
    }
   },
   "outputs": [
    {
     "data": {
      "text/plain": [
       "USMER             0\n",
       "MEDICAL_UNIT      0\n",
       "SEX               0\n",
       "PNEUMONIA         0\n",
       "AGE               0\n",
       "PREGNANT          0\n",
       "DIABETES          0\n",
       "COPD              0\n",
       "ASTHMA            0\n",
       "INMSUPR           0\n",
       "HIPERTENSION      0\n",
       "OTHER_DISEASE     0\n",
       "CARDIOVASCULAR    0\n",
       "OBESITY           0\n",
       "RENAL_CHRONIC     0\n",
       "TOBACCO           0\n",
       "LABEL             0\n",
       "dtype: int64"
      ]
     },
     "execution_count": 17,
     "metadata": {},
     "output_type": "execute_result"
    }
   ],
   "source": [
    "data.isna().sum()"
   ]
  },
  {
   "cell_type": "markdown",
   "id": "9ff75f70",
   "metadata": {},
   "source": [
    "**There is no missing data in the dataset**"
   ]
  },
  {
   "cell_type": "markdown",
   "id": "5a432e2d",
   "metadata": {},
   "source": [
    "# Pipeline"
   ]
  },
  {
   "cell_type": "code",
   "execution_count": 20,
   "id": "6e26ce1c",
   "metadata": {
    "ExecuteTime": {
     "end_time": "2023-01-17T16:02:06.857342Z",
     "start_time": "2023-01-17T16:02:06.826581Z"
    }
   },
   "outputs": [],
   "source": [
    "X = data.drop(columns=\"LABEL\")"
   ]
  },
  {
   "cell_type": "code",
   "execution_count": 93,
   "id": "0c828d8d",
   "metadata": {
    "ExecuteTime": {
     "end_time": "2023-01-17T16:22:29.623515Z",
     "start_time": "2023-01-17T16:22:29.604783Z"
    }
   },
   "outputs": [],
   "source": [
    "y=data[\"LABEL\"]\n",
    "\n",
    "y = y.map({\"SOFT_COVID\" : 0,\n",
    "          \"STRONG_COVID\" : 1,\n",
    "          \"DEAD\" : 2})"
   ]
  },
  {
   "cell_type": "code",
   "execution_count": 22,
   "id": "769e09ae",
   "metadata": {
    "ExecuteTime": {
     "end_time": "2023-01-17T16:02:36.205991Z",
     "start_time": "2023-01-17T16:02:35.961116Z"
    }
   },
   "outputs": [],
   "source": [
    "from sklearn.model_selection import train_test_split"
   ]
  },
  {
   "cell_type": "code",
   "execution_count": 23,
   "id": "16b556b2",
   "metadata": {
    "ExecuteTime": {
     "end_time": "2023-01-17T16:02:45.470200Z",
     "start_time": "2023-01-17T16:02:45.452768Z"
    }
   },
   "outputs": [],
   "source": [
    "X_train, X_test, y_train, y_test = train_test_split(X, y, test_size=0.33, random_state=42)"
   ]
  },
  {
   "cell_type": "code",
   "execution_count": 27,
   "id": "3602967e",
   "metadata": {
    "ExecuteTime": {
     "end_time": "2023-01-17T16:07:26.151488Z",
     "start_time": "2023-01-17T16:07:26.145542Z"
    }
   },
   "outputs": [],
   "source": [
    "ohe_encoder = OneHotEncoder(drop=\"if_binary\",sparse='False')"
   ]
  },
  {
   "cell_type": "code",
   "execution_count": 26,
   "id": "e2f0b179",
   "metadata": {
    "ExecuteTime": {
     "end_time": "2023-01-17T16:07:24.439485Z",
     "start_time": "2023-01-17T16:07:24.430014Z"
    }
   },
   "outputs": [],
   "source": [
    "# Preprocessing pipe\n",
    "num_transformer = Pipeline([ \n",
    "    ('scaling', StandardScaler())\n",
    "     ])\n",
    "\n",
    "cat_transformer = Pipeline([\n",
    "    ('encoder',ohe_encoder)\n",
    "])"
   ]
  },
  {
   "cell_type": "code",
   "execution_count": 71,
   "id": "e50636af",
   "metadata": {
    "ExecuteTime": {
     "end_time": "2023-01-17T16:14:41.106859Z",
     "start_time": "2023-01-17T16:14:41.101149Z"
    }
   },
   "outputs": [],
   "source": [
    "num_col = [\"AGE\"]\n",
    "cat_col = X.columns.tolist()"
   ]
  },
  {
   "cell_type": "code",
   "execution_count": 72,
   "id": "b2cd8a12",
   "metadata": {
    "ExecuteTime": {
     "end_time": "2023-01-17T16:14:41.906648Z",
     "start_time": "2023-01-17T16:14:41.896724Z"
    }
   },
   "outputs": [
    {
     "data": {
      "text/plain": [
       "['USMER',\n",
       " 'MEDICAL_UNIT',\n",
       " 'SEX',\n",
       " 'PNEUMONIA',\n",
       " 'PREGNANT',\n",
       " 'DIABETES',\n",
       " 'COPD',\n",
       " 'ASTHMA',\n",
       " 'INMSUPR',\n",
       " 'HIPERTENSION',\n",
       " 'OTHER_DISEASE',\n",
       " 'CARDIOVASCULAR',\n",
       " 'OBESITY',\n",
       " 'RENAL_CHRONIC',\n",
       " 'TOBACCO']"
      ]
     },
     "execution_count": 72,
     "metadata": {},
     "output_type": "execute_result"
    }
   ],
   "source": [
    "cat_col.remove(\"AGE\")\n",
    "cat_col"
   ]
  },
  {
   "cell_type": "code",
   "execution_count": 73,
   "id": "3e420ebc",
   "metadata": {
    "ExecuteTime": {
     "end_time": "2023-01-17T16:15:01.231169Z",
     "start_time": "2023-01-17T16:15:01.224494Z"
    }
   },
   "outputs": [],
   "source": [
    "preproc_baseline = ColumnTransformer([\n",
    "    ('num_tr', num_transformer, num_col),\n",
    "    ('cat_tr', cat_transformer, cat_col)],\n",
    "    remainder='drop'\n",
    ")"
   ]
  },
  {
   "cell_type": "code",
   "execution_count": 75,
   "id": "40105e8f",
   "metadata": {
    "ExecuteTime": {
     "end_time": "2023-01-17T16:15:23.164772Z",
     "start_time": "2023-01-17T16:15:23.044934Z"
    }
   },
   "outputs": [],
   "source": [
    "X_transformed = preproc_baseline.fit_transform(X)"
   ]
  },
  {
   "cell_type": "markdown",
   "id": "7d7ebd5c",
   "metadata": {
    "ExecuteTime": {
     "end_time": "2023-01-17T16:15:29.320837Z",
     "start_time": "2023-01-17T16:15:29.310763Z"
    }
   },
   "source": [
    "# Model"
   ]
  },
  {
   "cell_type": "code",
   "execution_count": 81,
   "id": "945d2d35",
   "metadata": {
    "ExecuteTime": {
     "end_time": "2023-01-17T16:18:46.747612Z",
     "start_time": "2023-01-17T16:18:46.742790Z"
    }
   },
   "outputs": [],
   "source": [
    "from sklearn.metrics import accuracy_score"
   ]
  },
  {
   "cell_type": "markdown",
   "id": "cb39d92e",
   "metadata": {},
   "source": [
    "## Decision Tree Regressor"
   ]
  },
  {
   "cell_type": "code",
   "execution_count": 99,
   "id": "08eacdbe",
   "metadata": {
    "ExecuteTime": {
     "end_time": "2023-01-17T16:23:48.560696Z",
     "start_time": "2023-01-17T16:23:48.554523Z"
    }
   },
   "outputs": [],
   "source": [
    "from sklearn.tree import DecisionTreeClassifier\n",
    "\n",
    "tree = DecisionTreeClassifier()"
   ]
  },
  {
   "cell_type": "code",
   "execution_count": 100,
   "id": "eeb4d15f",
   "metadata": {
    "ExecuteTime": {
     "end_time": "2023-01-17T16:23:49.688834Z",
     "start_time": "2023-01-17T16:23:49.586308Z"
    }
   },
   "outputs": [
    {
     "data": {
      "text/html": [
       "<style>#sk-container-id-2 {color: black;background-color: white;}#sk-container-id-2 pre{padding: 0;}#sk-container-id-2 div.sk-toggleable {background-color: white;}#sk-container-id-2 label.sk-toggleable__label {cursor: pointer;display: block;width: 100%;margin-bottom: 0;padding: 0.3em;box-sizing: border-box;text-align: center;}#sk-container-id-2 label.sk-toggleable__label-arrow:before {content: \"▸\";float: left;margin-right: 0.25em;color: #696969;}#sk-container-id-2 label.sk-toggleable__label-arrow:hover:before {color: black;}#sk-container-id-2 div.sk-estimator:hover label.sk-toggleable__label-arrow:before {color: black;}#sk-container-id-2 div.sk-toggleable__content {max-height: 0;max-width: 0;overflow: hidden;text-align: left;background-color: #f0f8ff;}#sk-container-id-2 div.sk-toggleable__content pre {margin: 0.2em;color: black;border-radius: 0.25em;background-color: #f0f8ff;}#sk-container-id-2 input.sk-toggleable__control:checked~div.sk-toggleable__content {max-height: 200px;max-width: 100%;overflow: auto;}#sk-container-id-2 input.sk-toggleable__control:checked~label.sk-toggleable__label-arrow:before {content: \"▾\";}#sk-container-id-2 div.sk-estimator input.sk-toggleable__control:checked~label.sk-toggleable__label {background-color: #d4ebff;}#sk-container-id-2 div.sk-label input.sk-toggleable__control:checked~label.sk-toggleable__label {background-color: #d4ebff;}#sk-container-id-2 input.sk-hidden--visually {border: 0;clip: rect(1px 1px 1px 1px);clip: rect(1px, 1px, 1px, 1px);height: 1px;margin: -1px;overflow: hidden;padding: 0;position: absolute;width: 1px;}#sk-container-id-2 div.sk-estimator {font-family: monospace;background-color: #f0f8ff;border: 1px dotted black;border-radius: 0.25em;box-sizing: border-box;margin-bottom: 0.5em;}#sk-container-id-2 div.sk-estimator:hover {background-color: #d4ebff;}#sk-container-id-2 div.sk-parallel-item::after {content: \"\";width: 100%;border-bottom: 1px solid gray;flex-grow: 1;}#sk-container-id-2 div.sk-label:hover label.sk-toggleable__label {background-color: #d4ebff;}#sk-container-id-2 div.sk-serial::before {content: \"\";position: absolute;border-left: 1px solid gray;box-sizing: border-box;top: 0;bottom: 0;left: 50%;z-index: 0;}#sk-container-id-2 div.sk-serial {display: flex;flex-direction: column;align-items: center;background-color: white;padding-right: 0.2em;padding-left: 0.2em;position: relative;}#sk-container-id-2 div.sk-item {position: relative;z-index: 1;}#sk-container-id-2 div.sk-parallel {display: flex;align-items: stretch;justify-content: center;background-color: white;position: relative;}#sk-container-id-2 div.sk-item::before, #sk-container-id-2 div.sk-parallel-item::before {content: \"\";position: absolute;border-left: 1px solid gray;box-sizing: border-box;top: 0;bottom: 0;left: 50%;z-index: -1;}#sk-container-id-2 div.sk-parallel-item {display: flex;flex-direction: column;z-index: 1;position: relative;background-color: white;}#sk-container-id-2 div.sk-parallel-item:first-child::after {align-self: flex-end;width: 50%;}#sk-container-id-2 div.sk-parallel-item:last-child::after {align-self: flex-start;width: 50%;}#sk-container-id-2 div.sk-parallel-item:only-child::after {width: 0;}#sk-container-id-2 div.sk-dashed-wrapped {border: 1px dashed gray;margin: 0 0.4em 0.5em 0.4em;box-sizing: border-box;padding-bottom: 0.4em;background-color: white;}#sk-container-id-2 div.sk-label label {font-family: monospace;font-weight: bold;display: inline-block;line-height: 1.2em;}#sk-container-id-2 div.sk-label-container {text-align: center;}#sk-container-id-2 div.sk-container {/* jupyter's `normalize.less` sets `[hidden] { display: none; }` but bootstrap.min.css set `[hidden] { display: none !important; }` so we also need the `!important` here to be able to override the default hidden behavior on the sphinx rendered scikit-learn.org. See: https://github.com/scikit-learn/scikit-learn/issues/21755 */display: inline-block !important;position: relative;}#sk-container-id-2 div.sk-text-repr-fallback {display: none;}</style><div id=\"sk-container-id-2\" class=\"sk-top-container\"><div class=\"sk-text-repr-fallback\"><pre>Pipeline(steps=[(&#x27;columntransformer&#x27;,\n",
       "                 ColumnTransformer(transformers=[(&#x27;num_tr&#x27;,\n",
       "                                                  Pipeline(steps=[(&#x27;scaling&#x27;,\n",
       "                                                                   StandardScaler())]),\n",
       "                                                  [&#x27;AGE&#x27;]),\n",
       "                                                 (&#x27;cat_tr&#x27;,\n",
       "                                                  Pipeline(steps=[(&#x27;encoder&#x27;,\n",
       "                                                                   OneHotEncoder(handle_unknown=&#x27;ignore&#x27;,\n",
       "                                                                                 sparse=&#x27;False&#x27;))]),\n",
       "                                                  [&#x27;USMER&#x27;, &#x27;MEDICAL_UNIT&#x27;,\n",
       "                                                   &#x27;SEX&#x27;, &#x27;PNEUMONIA&#x27;,\n",
       "                                                   &#x27;PREGNANT&#x27;, &#x27;DIABETES&#x27;,\n",
       "                                                   &#x27;COPD&#x27;, &#x27;ASTHMA&#x27;, &#x27;INMSUPR&#x27;,\n",
       "                                                   &#x27;HIPERTENSION&#x27;,\n",
       "                                                   &#x27;OTHER_DISEASE&#x27;,\n",
       "                                                   &#x27;CARDIOVASCULAR&#x27;, &#x27;OBESITY&#x27;,\n",
       "                                                   &#x27;RENAL_CHRONIC&#x27;,\n",
       "                                                   &#x27;TOBACCO&#x27;])])),\n",
       "                (&#x27;decisiontreeclassifier&#x27;, DecisionTreeClassifier())])</pre><b>In a Jupyter environment, please rerun this cell to show the HTML representation or trust the notebook. <br />On GitHub, the HTML representation is unable to render, please try loading this page with nbviewer.org.</b></div><div class=\"sk-container\" hidden><div class=\"sk-item sk-dashed-wrapped\"><div class=\"sk-label-container\"><div class=\"sk-label sk-toggleable\"><input class=\"sk-toggleable__control sk-hidden--visually\" id=\"sk-estimator-id-8\" type=\"checkbox\" ><label for=\"sk-estimator-id-8\" class=\"sk-toggleable__label sk-toggleable__label-arrow\">Pipeline</label><div class=\"sk-toggleable__content\"><pre>Pipeline(steps=[(&#x27;columntransformer&#x27;,\n",
       "                 ColumnTransformer(transformers=[(&#x27;num_tr&#x27;,\n",
       "                                                  Pipeline(steps=[(&#x27;scaling&#x27;,\n",
       "                                                                   StandardScaler())]),\n",
       "                                                  [&#x27;AGE&#x27;]),\n",
       "                                                 (&#x27;cat_tr&#x27;,\n",
       "                                                  Pipeline(steps=[(&#x27;encoder&#x27;,\n",
       "                                                                   OneHotEncoder(handle_unknown=&#x27;ignore&#x27;,\n",
       "                                                                                 sparse=&#x27;False&#x27;))]),\n",
       "                                                  [&#x27;USMER&#x27;, &#x27;MEDICAL_UNIT&#x27;,\n",
       "                                                   &#x27;SEX&#x27;, &#x27;PNEUMONIA&#x27;,\n",
       "                                                   &#x27;PREGNANT&#x27;, &#x27;DIABETES&#x27;,\n",
       "                                                   &#x27;COPD&#x27;, &#x27;ASTHMA&#x27;, &#x27;INMSUPR&#x27;,\n",
       "                                                   &#x27;HIPERTENSION&#x27;,\n",
       "                                                   &#x27;OTHER_DISEASE&#x27;,\n",
       "                                                   &#x27;CARDIOVASCULAR&#x27;, &#x27;OBESITY&#x27;,\n",
       "                                                   &#x27;RENAL_CHRONIC&#x27;,\n",
       "                                                   &#x27;TOBACCO&#x27;])])),\n",
       "                (&#x27;decisiontreeclassifier&#x27;, DecisionTreeClassifier())])</pre></div></div></div><div class=\"sk-serial\"><div class=\"sk-item sk-dashed-wrapped\"><div class=\"sk-label-container\"><div class=\"sk-label sk-toggleable\"><input class=\"sk-toggleable__control sk-hidden--visually\" id=\"sk-estimator-id-9\" type=\"checkbox\" ><label for=\"sk-estimator-id-9\" class=\"sk-toggleable__label sk-toggleable__label-arrow\">columntransformer: ColumnTransformer</label><div class=\"sk-toggleable__content\"><pre>ColumnTransformer(transformers=[(&#x27;num_tr&#x27;,\n",
       "                                 Pipeline(steps=[(&#x27;scaling&#x27;,\n",
       "                                                  StandardScaler())]),\n",
       "                                 [&#x27;AGE&#x27;]),\n",
       "                                (&#x27;cat_tr&#x27;,\n",
       "                                 Pipeline(steps=[(&#x27;encoder&#x27;,\n",
       "                                                  OneHotEncoder(handle_unknown=&#x27;ignore&#x27;,\n",
       "                                                                sparse=&#x27;False&#x27;))]),\n",
       "                                 [&#x27;USMER&#x27;, &#x27;MEDICAL_UNIT&#x27;, &#x27;SEX&#x27;, &#x27;PNEUMONIA&#x27;,\n",
       "                                  &#x27;PREGNANT&#x27;, &#x27;DIABETES&#x27;, &#x27;COPD&#x27;, &#x27;ASTHMA&#x27;,\n",
       "                                  &#x27;INMSUPR&#x27;, &#x27;HIPERTENSION&#x27;, &#x27;OTHER_DISEASE&#x27;,\n",
       "                                  &#x27;CARDIOVASCULAR&#x27;, &#x27;OBESITY&#x27;, &#x27;RENAL_CHRONIC&#x27;,\n",
       "                                  &#x27;TOBACCO&#x27;])])</pre></div></div></div><div class=\"sk-parallel\"><div class=\"sk-parallel-item\"><div class=\"sk-item\"><div class=\"sk-label-container\"><div class=\"sk-label sk-toggleable\"><input class=\"sk-toggleable__control sk-hidden--visually\" id=\"sk-estimator-id-10\" type=\"checkbox\" ><label for=\"sk-estimator-id-10\" class=\"sk-toggleable__label sk-toggleable__label-arrow\">num_tr</label><div class=\"sk-toggleable__content\"><pre>[&#x27;AGE&#x27;]</pre></div></div></div><div class=\"sk-serial\"><div class=\"sk-item\"><div class=\"sk-serial\"><div class=\"sk-item\"><div class=\"sk-estimator sk-toggleable\"><input class=\"sk-toggleable__control sk-hidden--visually\" id=\"sk-estimator-id-11\" type=\"checkbox\" ><label for=\"sk-estimator-id-11\" class=\"sk-toggleable__label sk-toggleable__label-arrow\">StandardScaler</label><div class=\"sk-toggleable__content\"><pre>StandardScaler()</pre></div></div></div></div></div></div></div></div><div class=\"sk-parallel-item\"><div class=\"sk-item\"><div class=\"sk-label-container\"><div class=\"sk-label sk-toggleable\"><input class=\"sk-toggleable__control sk-hidden--visually\" id=\"sk-estimator-id-12\" type=\"checkbox\" ><label for=\"sk-estimator-id-12\" class=\"sk-toggleable__label sk-toggleable__label-arrow\">cat_tr</label><div class=\"sk-toggleable__content\"><pre>[&#x27;USMER&#x27;, &#x27;MEDICAL_UNIT&#x27;, &#x27;SEX&#x27;, &#x27;PNEUMONIA&#x27;, &#x27;PREGNANT&#x27;, &#x27;DIABETES&#x27;, &#x27;COPD&#x27;, &#x27;ASTHMA&#x27;, &#x27;INMSUPR&#x27;, &#x27;HIPERTENSION&#x27;, &#x27;OTHER_DISEASE&#x27;, &#x27;CARDIOVASCULAR&#x27;, &#x27;OBESITY&#x27;, &#x27;RENAL_CHRONIC&#x27;, &#x27;TOBACCO&#x27;]</pre></div></div></div><div class=\"sk-serial\"><div class=\"sk-item\"><div class=\"sk-serial\"><div class=\"sk-item\"><div class=\"sk-estimator sk-toggleable\"><input class=\"sk-toggleable__control sk-hidden--visually\" id=\"sk-estimator-id-13\" type=\"checkbox\" ><label for=\"sk-estimator-id-13\" class=\"sk-toggleable__label sk-toggleable__label-arrow\">OneHotEncoder</label><div class=\"sk-toggleable__content\"><pre>OneHotEncoder(handle_unknown=&#x27;ignore&#x27;, sparse=&#x27;False&#x27;)</pre></div></div></div></div></div></div></div></div></div></div><div class=\"sk-item\"><div class=\"sk-estimator sk-toggleable\"><input class=\"sk-toggleable__control sk-hidden--visually\" id=\"sk-estimator-id-14\" type=\"checkbox\" ><label for=\"sk-estimator-id-14\" class=\"sk-toggleable__label sk-toggleable__label-arrow\">DecisionTreeClassifier</label><div class=\"sk-toggleable__content\"><pre>DecisionTreeClassifier()</pre></div></div></div></div></div></div></div>"
      ],
      "text/plain": [
       "Pipeline(steps=[('columntransformer',\n",
       "                 ColumnTransformer(transformers=[('num_tr',\n",
       "                                                  Pipeline(steps=[('scaling',\n",
       "                                                                   StandardScaler())]),\n",
       "                                                  ['AGE']),\n",
       "                                                 ('cat_tr',\n",
       "                                                  Pipeline(steps=[('encoder',\n",
       "                                                                   OneHotEncoder(handle_unknown='ignore',\n",
       "                                                                                 sparse='False'))]),\n",
       "                                                  ['USMER', 'MEDICAL_UNIT',\n",
       "                                                   'SEX', 'PNEUMONIA',\n",
       "                                                   'PREGNANT', 'DIABETES',\n",
       "                                                   'COPD', 'ASTHMA', 'INMSUPR',\n",
       "                                                   'HIPERTENSION',\n",
       "                                                   'OTHER_DISEASE',\n",
       "                                                   'CARDIOVASCULAR', 'OBESITY',\n",
       "                                                   'RENAL_CHRONIC',\n",
       "                                                   'TOBACCO'])])),\n",
       "                ('decisiontreeclassifier', DecisionTreeClassifier())])"
      ]
     },
     "execution_count": 100,
     "metadata": {},
     "output_type": "execute_result"
    }
   ],
   "source": [
    "pipe_baseline = make_pipeline(preproc_baseline,tree)\n",
    "pipe_baseline\n"
   ]
  },
  {
   "cell_type": "code",
   "execution_count": 102,
   "id": "7c4c41f1",
   "metadata": {
    "ExecuteTime": {
     "end_time": "2023-01-17T16:24:27.275874Z",
     "start_time": "2023-01-17T16:24:26.545563Z"
    }
   },
   "outputs": [],
   "source": [
    "score_baseline = cross_val_score(pipe_baseline, X, y, cv=5).mean()"
   ]
  },
  {
   "cell_type": "code",
   "execution_count": 103,
   "id": "1d010b7a",
   "metadata": {
    "ExecuteTime": {
     "end_time": "2023-01-17T16:24:28.355777Z",
     "start_time": "2023-01-17T16:24:28.343477Z"
    }
   },
   "outputs": [
    {
     "data": {
      "text/plain": [
       "0.5984160708141564"
      ]
     },
     "execution_count": 103,
     "metadata": {},
     "output_type": "execute_result"
    }
   ],
   "source": [
    "score_baseline"
   ]
  },
  {
   "cell_type": "markdown",
   "id": "b9fcba74",
   "metadata": {},
   "source": [
    "# Random Forest"
   ]
  },
  {
   "cell_type": "code",
   "execution_count": 111,
   "id": "a1f3b87b",
   "metadata": {
    "ExecuteTime": {
     "end_time": "2023-01-17T16:30:16.925595Z",
     "start_time": "2023-01-17T16:30:16.819748Z"
    }
   },
   "outputs": [
    {
     "data": {
      "text/html": [
       "<style>#sk-container-id-4 {color: black;background-color: white;}#sk-container-id-4 pre{padding: 0;}#sk-container-id-4 div.sk-toggleable {background-color: white;}#sk-container-id-4 label.sk-toggleable__label {cursor: pointer;display: block;width: 100%;margin-bottom: 0;padding: 0.3em;box-sizing: border-box;text-align: center;}#sk-container-id-4 label.sk-toggleable__label-arrow:before {content: \"▸\";float: left;margin-right: 0.25em;color: #696969;}#sk-container-id-4 label.sk-toggleable__label-arrow:hover:before {color: black;}#sk-container-id-4 div.sk-estimator:hover label.sk-toggleable__label-arrow:before {color: black;}#sk-container-id-4 div.sk-toggleable__content {max-height: 0;max-width: 0;overflow: hidden;text-align: left;background-color: #f0f8ff;}#sk-container-id-4 div.sk-toggleable__content pre {margin: 0.2em;color: black;border-radius: 0.25em;background-color: #f0f8ff;}#sk-container-id-4 input.sk-toggleable__control:checked~div.sk-toggleable__content {max-height: 200px;max-width: 100%;overflow: auto;}#sk-container-id-4 input.sk-toggleable__control:checked~label.sk-toggleable__label-arrow:before {content: \"▾\";}#sk-container-id-4 div.sk-estimator input.sk-toggleable__control:checked~label.sk-toggleable__label {background-color: #d4ebff;}#sk-container-id-4 div.sk-label input.sk-toggleable__control:checked~label.sk-toggleable__label {background-color: #d4ebff;}#sk-container-id-4 input.sk-hidden--visually {border: 0;clip: rect(1px 1px 1px 1px);clip: rect(1px, 1px, 1px, 1px);height: 1px;margin: -1px;overflow: hidden;padding: 0;position: absolute;width: 1px;}#sk-container-id-4 div.sk-estimator {font-family: monospace;background-color: #f0f8ff;border: 1px dotted black;border-radius: 0.25em;box-sizing: border-box;margin-bottom: 0.5em;}#sk-container-id-4 div.sk-estimator:hover {background-color: #d4ebff;}#sk-container-id-4 div.sk-parallel-item::after {content: \"\";width: 100%;border-bottom: 1px solid gray;flex-grow: 1;}#sk-container-id-4 div.sk-label:hover label.sk-toggleable__label {background-color: #d4ebff;}#sk-container-id-4 div.sk-serial::before {content: \"\";position: absolute;border-left: 1px solid gray;box-sizing: border-box;top: 0;bottom: 0;left: 50%;z-index: 0;}#sk-container-id-4 div.sk-serial {display: flex;flex-direction: column;align-items: center;background-color: white;padding-right: 0.2em;padding-left: 0.2em;position: relative;}#sk-container-id-4 div.sk-item {position: relative;z-index: 1;}#sk-container-id-4 div.sk-parallel {display: flex;align-items: stretch;justify-content: center;background-color: white;position: relative;}#sk-container-id-4 div.sk-item::before, #sk-container-id-4 div.sk-parallel-item::before {content: \"\";position: absolute;border-left: 1px solid gray;box-sizing: border-box;top: 0;bottom: 0;left: 50%;z-index: -1;}#sk-container-id-4 div.sk-parallel-item {display: flex;flex-direction: column;z-index: 1;position: relative;background-color: white;}#sk-container-id-4 div.sk-parallel-item:first-child::after {align-self: flex-end;width: 50%;}#sk-container-id-4 div.sk-parallel-item:last-child::after {align-self: flex-start;width: 50%;}#sk-container-id-4 div.sk-parallel-item:only-child::after {width: 0;}#sk-container-id-4 div.sk-dashed-wrapped {border: 1px dashed gray;margin: 0 0.4em 0.5em 0.4em;box-sizing: border-box;padding-bottom: 0.4em;background-color: white;}#sk-container-id-4 div.sk-label label {font-family: monospace;font-weight: bold;display: inline-block;line-height: 1.2em;}#sk-container-id-4 div.sk-label-container {text-align: center;}#sk-container-id-4 div.sk-container {/* jupyter's `normalize.less` sets `[hidden] { display: none; }` but bootstrap.min.css set `[hidden] { display: none !important; }` so we also need the `!important` here to be able to override the default hidden behavior on the sphinx rendered scikit-learn.org. See: https://github.com/scikit-learn/scikit-learn/issues/21755 */display: inline-block !important;position: relative;}#sk-container-id-4 div.sk-text-repr-fallback {display: none;}</style><div id=\"sk-container-id-4\" class=\"sk-top-container\"><div class=\"sk-text-repr-fallback\"><pre>Pipeline(steps=[(&#x27;columntransformer&#x27;,\n",
       "                 ColumnTransformer(transformers=[(&#x27;num_tr&#x27;,\n",
       "                                                  Pipeline(steps=[(&#x27;scaling&#x27;,\n",
       "                                                                   StandardScaler())]),\n",
       "                                                  [&#x27;AGE&#x27;]),\n",
       "                                                 (&#x27;cat_tr&#x27;,\n",
       "                                                  Pipeline(steps=[(&#x27;encoder&#x27;,\n",
       "                                                                   OneHotEncoder(handle_unknown=&#x27;ignore&#x27;,\n",
       "                                                                                 sparse=&#x27;False&#x27;))]),\n",
       "                                                  [&#x27;USMER&#x27;, &#x27;MEDICAL_UNIT&#x27;,\n",
       "                                                   &#x27;SEX&#x27;, &#x27;PNEUMONIA&#x27;,\n",
       "                                                   &#x27;PREGNANT&#x27;, &#x27;DIABETES&#x27;,\n",
       "                                                   &#x27;COPD&#x27;, &#x27;ASTHMA&#x27;, &#x27;INMSUPR&#x27;,\n",
       "                                                   &#x27;HIPERTENSION&#x27;,\n",
       "                                                   &#x27;OTHER_DISEASE&#x27;,\n",
       "                                                   &#x27;CARDIOVASCULAR&#x27;, &#x27;OBESITY&#x27;,\n",
       "                                                   &#x27;RENAL_CHRONIC&#x27;,\n",
       "                                                   &#x27;TOBACCO&#x27;])])),\n",
       "                (&#x27;randomforestclassifier&#x27;, RandomForestClassifier())])</pre><b>In a Jupyter environment, please rerun this cell to show the HTML representation or trust the notebook. <br />On GitHub, the HTML representation is unable to render, please try loading this page with nbviewer.org.</b></div><div class=\"sk-container\" hidden><div class=\"sk-item sk-dashed-wrapped\"><div class=\"sk-label-container\"><div class=\"sk-label sk-toggleable\"><input class=\"sk-toggleable__control sk-hidden--visually\" id=\"sk-estimator-id-24\" type=\"checkbox\" ><label for=\"sk-estimator-id-24\" class=\"sk-toggleable__label sk-toggleable__label-arrow\">Pipeline</label><div class=\"sk-toggleable__content\"><pre>Pipeline(steps=[(&#x27;columntransformer&#x27;,\n",
       "                 ColumnTransformer(transformers=[(&#x27;num_tr&#x27;,\n",
       "                                                  Pipeline(steps=[(&#x27;scaling&#x27;,\n",
       "                                                                   StandardScaler())]),\n",
       "                                                  [&#x27;AGE&#x27;]),\n",
       "                                                 (&#x27;cat_tr&#x27;,\n",
       "                                                  Pipeline(steps=[(&#x27;encoder&#x27;,\n",
       "                                                                   OneHotEncoder(handle_unknown=&#x27;ignore&#x27;,\n",
       "                                                                                 sparse=&#x27;False&#x27;))]),\n",
       "                                                  [&#x27;USMER&#x27;, &#x27;MEDICAL_UNIT&#x27;,\n",
       "                                                   &#x27;SEX&#x27;, &#x27;PNEUMONIA&#x27;,\n",
       "                                                   &#x27;PREGNANT&#x27;, &#x27;DIABETES&#x27;,\n",
       "                                                   &#x27;COPD&#x27;, &#x27;ASTHMA&#x27;, &#x27;INMSUPR&#x27;,\n",
       "                                                   &#x27;HIPERTENSION&#x27;,\n",
       "                                                   &#x27;OTHER_DISEASE&#x27;,\n",
       "                                                   &#x27;CARDIOVASCULAR&#x27;, &#x27;OBESITY&#x27;,\n",
       "                                                   &#x27;RENAL_CHRONIC&#x27;,\n",
       "                                                   &#x27;TOBACCO&#x27;])])),\n",
       "                (&#x27;randomforestclassifier&#x27;, RandomForestClassifier())])</pre></div></div></div><div class=\"sk-serial\"><div class=\"sk-item sk-dashed-wrapped\"><div class=\"sk-label-container\"><div class=\"sk-label sk-toggleable\"><input class=\"sk-toggleable__control sk-hidden--visually\" id=\"sk-estimator-id-25\" type=\"checkbox\" ><label for=\"sk-estimator-id-25\" class=\"sk-toggleable__label sk-toggleable__label-arrow\">columntransformer: ColumnTransformer</label><div class=\"sk-toggleable__content\"><pre>ColumnTransformer(transformers=[(&#x27;num_tr&#x27;,\n",
       "                                 Pipeline(steps=[(&#x27;scaling&#x27;,\n",
       "                                                  StandardScaler())]),\n",
       "                                 [&#x27;AGE&#x27;]),\n",
       "                                (&#x27;cat_tr&#x27;,\n",
       "                                 Pipeline(steps=[(&#x27;encoder&#x27;,\n",
       "                                                  OneHotEncoder(handle_unknown=&#x27;ignore&#x27;,\n",
       "                                                                sparse=&#x27;False&#x27;))]),\n",
       "                                 [&#x27;USMER&#x27;, &#x27;MEDICAL_UNIT&#x27;, &#x27;SEX&#x27;, &#x27;PNEUMONIA&#x27;,\n",
       "                                  &#x27;PREGNANT&#x27;, &#x27;DIABETES&#x27;, &#x27;COPD&#x27;, &#x27;ASTHMA&#x27;,\n",
       "                                  &#x27;INMSUPR&#x27;, &#x27;HIPERTENSION&#x27;, &#x27;OTHER_DISEASE&#x27;,\n",
       "                                  &#x27;CARDIOVASCULAR&#x27;, &#x27;OBESITY&#x27;, &#x27;RENAL_CHRONIC&#x27;,\n",
       "                                  &#x27;TOBACCO&#x27;])])</pre></div></div></div><div class=\"sk-parallel\"><div class=\"sk-parallel-item\"><div class=\"sk-item\"><div class=\"sk-label-container\"><div class=\"sk-label sk-toggleable\"><input class=\"sk-toggleable__control sk-hidden--visually\" id=\"sk-estimator-id-26\" type=\"checkbox\" ><label for=\"sk-estimator-id-26\" class=\"sk-toggleable__label sk-toggleable__label-arrow\">num_tr</label><div class=\"sk-toggleable__content\"><pre>[&#x27;AGE&#x27;]</pre></div></div></div><div class=\"sk-serial\"><div class=\"sk-item\"><div class=\"sk-serial\"><div class=\"sk-item\"><div class=\"sk-estimator sk-toggleable\"><input class=\"sk-toggleable__control sk-hidden--visually\" id=\"sk-estimator-id-27\" type=\"checkbox\" ><label for=\"sk-estimator-id-27\" class=\"sk-toggleable__label sk-toggleable__label-arrow\">StandardScaler</label><div class=\"sk-toggleable__content\"><pre>StandardScaler()</pre></div></div></div></div></div></div></div></div><div class=\"sk-parallel-item\"><div class=\"sk-item\"><div class=\"sk-label-container\"><div class=\"sk-label sk-toggleable\"><input class=\"sk-toggleable__control sk-hidden--visually\" id=\"sk-estimator-id-28\" type=\"checkbox\" ><label for=\"sk-estimator-id-28\" class=\"sk-toggleable__label sk-toggleable__label-arrow\">cat_tr</label><div class=\"sk-toggleable__content\"><pre>[&#x27;USMER&#x27;, &#x27;MEDICAL_UNIT&#x27;, &#x27;SEX&#x27;, &#x27;PNEUMONIA&#x27;, &#x27;PREGNANT&#x27;, &#x27;DIABETES&#x27;, &#x27;COPD&#x27;, &#x27;ASTHMA&#x27;, &#x27;INMSUPR&#x27;, &#x27;HIPERTENSION&#x27;, &#x27;OTHER_DISEASE&#x27;, &#x27;CARDIOVASCULAR&#x27;, &#x27;OBESITY&#x27;, &#x27;RENAL_CHRONIC&#x27;, &#x27;TOBACCO&#x27;]</pre></div></div></div><div class=\"sk-serial\"><div class=\"sk-item\"><div class=\"sk-serial\"><div class=\"sk-item\"><div class=\"sk-estimator sk-toggleable\"><input class=\"sk-toggleable__control sk-hidden--visually\" id=\"sk-estimator-id-29\" type=\"checkbox\" ><label for=\"sk-estimator-id-29\" class=\"sk-toggleable__label sk-toggleable__label-arrow\">OneHotEncoder</label><div class=\"sk-toggleable__content\"><pre>OneHotEncoder(handle_unknown=&#x27;ignore&#x27;, sparse=&#x27;False&#x27;)</pre></div></div></div></div></div></div></div></div></div></div><div class=\"sk-item\"><div class=\"sk-estimator sk-toggleable\"><input class=\"sk-toggleable__control sk-hidden--visually\" id=\"sk-estimator-id-30\" type=\"checkbox\" ><label for=\"sk-estimator-id-30\" class=\"sk-toggleable__label sk-toggleable__label-arrow\">RandomForestClassifier</label><div class=\"sk-toggleable__content\"><pre>RandomForestClassifier()</pre></div></div></div></div></div></div></div>"
      ],
      "text/plain": [
       "Pipeline(steps=[('columntransformer',\n",
       "                 ColumnTransformer(transformers=[('num_tr',\n",
       "                                                  Pipeline(steps=[('scaling',\n",
       "                                                                   StandardScaler())]),\n",
       "                                                  ['AGE']),\n",
       "                                                 ('cat_tr',\n",
       "                                                  Pipeline(steps=[('encoder',\n",
       "                                                                   OneHotEncoder(handle_unknown='ignore',\n",
       "                                                                                 sparse='False'))]),\n",
       "                                                  ['USMER', 'MEDICAL_UNIT',\n",
       "                                                   'SEX', 'PNEUMONIA',\n",
       "                                                   'PREGNANT', 'DIABETES',\n",
       "                                                   'COPD', 'ASTHMA', 'INMSUPR',\n",
       "                                                   'HIPERTENSION',\n",
       "                                                   'OTHER_DISEASE',\n",
       "                                                   'CARDIOVASCULAR', 'OBESITY',\n",
       "                                                   'RENAL_CHRONIC',\n",
       "                                                   'TOBACCO'])])),\n",
       "                ('randomforestclassifier', RandomForestClassifier())])"
      ]
     },
     "execution_count": 111,
     "metadata": {},
     "output_type": "execute_result"
    }
   ],
   "source": [
    "from sklearn.ensemble import RandomForestClassifier\n",
    "from sklearn.feature_selection import SelectFromModel\n",
    "\n",
    "\n",
    "random_forest=  RandomForestClassifier()\n",
    "\n",
    "pipe_random_forest = make_pipeline(preproc_baseline,random_forest)\n",
    "pipe_random_forest"
   ]
  },
  {
   "cell_type": "code",
   "execution_count": 113,
   "id": "b5f475f9",
   "metadata": {
    "ExecuteTime": {
     "end_time": "2023-01-17T16:30:31.860501Z",
     "start_time": "2023-01-17T16:30:22.664679Z"
    }
   },
   "outputs": [],
   "source": [
    "score_random_forest = cross_val_score(pipe_random_forest, X, y, cv=5).mean()"
   ]
  },
  {
   "cell_type": "code",
   "execution_count": 114,
   "id": "b7533338",
   "metadata": {
    "ExecuteTime": {
     "end_time": "2023-01-17T16:31:08.171396Z",
     "start_time": "2023-01-17T16:31:08.164584Z"
    }
   },
   "outputs": [
    {
     "data": {
      "text/plain": [
       "0.6220424950264505"
      ]
     },
     "execution_count": 114,
     "metadata": {},
     "output_type": "execute_result"
    }
   ],
   "source": [
    "score_random_forest"
   ]
  },
  {
   "cell_type": "code",
   "execution_count": null,
   "id": "b771f74e",
   "metadata": {},
   "outputs": [],
   "source": []
  }
 ],
 "metadata": {
  "kernelspec": {
   "display_name": "Python 3 (ipykernel)",
   "language": "python",
   "name": "python3"
  },
  "language_info": {
   "codemirror_mode": {
    "name": "ipython",
    "version": 3
   },
   "file_extension": ".py",
   "mimetype": "text/x-python",
   "name": "python",
   "nbconvert_exporter": "python",
   "pygments_lexer": "ipython3",
   "version": "3.10.6"
  },
  "toc": {
   "base_numbering": 1,
   "nav_menu": {},
   "number_sections": true,
   "sideBar": true,
   "skip_h1_title": false,
   "title_cell": "Table of Contents",
   "title_sidebar": "Contents",
   "toc_cell": false,
   "toc_position": {},
   "toc_section_display": true,
   "toc_window_display": false
  }
 },
 "nbformat": 4,
 "nbformat_minor": 5
}
